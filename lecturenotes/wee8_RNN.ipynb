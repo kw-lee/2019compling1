{
 "cells": [
  {
   "cell_type": "markdown",
   "metadata": {},
   "source": [
    "# RNN"
   ]
  },
  {
   "cell_type": "markdown",
   "metadata": {},
   "source": [
    "* https://towardsdatascience.com/illustrated-guide-to-recurrent-neural-networks-79e5eb8049c9\n",
    "* LSTM and GRU: https://towardsdatascience.com/illustrated-guide-to-lstms-and-gru-s-a-step-by-step-explanation-44e9eb85bf21"
   ]
  },
  {
   "cell_type": "markdown",
   "metadata": {},
   "source": [
    "## LSTM"
   ]
  },
  {
   "cell_type": "markdown",
   "metadata": {},
   "source": [
    "![SLTM and GRU](https://miro.medium.com/max/3032/1*yBXV9o5q7L_CvY7quJt3WQ.png)\n",
    "\n",
    "* forget gate: 앞의 정보들을 기억할 지, 말 지를 결정"
   ]
  },
  {
   "cell_type": "markdown",
   "metadata": {},
   "source": [
    "sigmoid: 0과 1 사이의 값을 계산하기 때문에, weight와 같은 의미를 직관적으로 해석하기 좋음"
   ]
  },
  {
   "cell_type": "markdown",
   "metadata": {},
   "source": [
    "LSTM은 메모리를 많이 먹는다. "
   ]
  },
  {
   "cell_type": "markdown",
   "metadata": {},
   "source": [
    "## Practice\n",
    "\n",
    "* RNN: [Notebook](../deep-learning-wizard/docs/deep_learning/practical_pytorch/pytorch_recurrent_neuralnetwork.ipynb)\n",
    "* LSTM: [Notebook](../deep-learning-wizard/docs/deep_learning/practical_pytorch/pytorch_lstm_neuralnetwork.ipynb)"
   ]
  },
  {
   "cell_type": "markdown",
   "metadata": {},
   "source": [
    "## Seq2Seq Model\n",
    "\n",
    "https://github.com/bentrevett/pytorch-seq2seq/blob/master/1%20-%20Sequence%20to%20Sequence%20Learning%20with%20Neural%20Networks.ipynb\n",
    "\n",
    "* Encoder-Decoder model의 문제점: context vector $z$가 앞의 정보들을 잃어버릴 수 있다.\n",
    "* 해결책으로 중요한 context를 기억하는 attention model 도입\n",
    "* RNN - Encoder-Decoder - Attention - Self-Attension 순서를 생각해보기"
   ]
  }
 ],
 "metadata": {
  "kernelspec": {
   "display_name": "Python 3",
   "language": "python",
   "name": "python3"
  },
  "language_info": {
   "codemirror_mode": {
    "name": "ipython",
    "version": 3
   },
   "file_extension": ".py",
   "mimetype": "text/x-python",
   "name": "python",
   "nbconvert_exporter": "python",
   "pygments_lexer": "ipython3",
   "version": "3.7.4"
  }
 },
 "nbformat": 4,
 "nbformat_minor": 4
}
