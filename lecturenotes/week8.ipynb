{
 "cells": [
  {
   "cell_type": "markdown",
   "metadata": {},
   "source": [
    "# Attention"
   ]
  },
  {
   "cell_type": "markdown",
   "metadata": {},
   "source": [
    "## Transformer\n",
    "\n",
    "* Self-Attention 도입\n",
    "* Self-Attention layer를 시각화할 수 있음\n",
    "* RNN과 달리 순서에 대한 정보를 버려서 사용함 ->sinusoidal function을 이용해 positional information을 준다.\n",
    "\n",
    "### Pros\n",
    "* perallel computing이 가능해진다\n",
    "* long-range 연산에서도 memory 문제를 해결할 수 있다.\n",
    "* 모형의 해석이 좋다"
   ]
  }
 ],
 "metadata": {
  "kernelspec": {
   "display_name": "Python 3",
   "language": "python",
   "name": "python3"
  },
  "language_info": {
   "codemirror_mode": {
    "name": "ipython",
    "version": 3
   },
   "file_extension": ".py",
   "mimetype": "text/x-python",
   "name": "python",
   "nbconvert_exporter": "python",
   "pygments_lexer": "ipython3",
   "version": "3.7.4"
  }
 },
 "nbformat": 4,
 "nbformat_minor": 2
}
