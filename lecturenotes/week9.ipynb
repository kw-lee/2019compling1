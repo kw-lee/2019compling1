{
 "cells": [
  {
   "cell_type": "markdown",
   "metadata": {},
   "source": [
    "# BERT"
   ]
  },
  {
   "cell_type": "markdown",
   "metadata": {},
   "source": [
    "## Transformal \n",
    "\n",
    "* 이전 강의자료, HW 참고"
   ]
  },
  {
   "cell_type": "markdown",
   "metadata": {},
   "source": [
    "## Open AI GPT\n",
    "\n",
    "* masking? next sentance prediction?"
   ]
  },
  {
   "cell_type": "markdown",
   "metadata": {},
   "source": [
    "## BERT\n",
    "\n",
    "> BERT stands for Bidirectional Encoder Representations from Transformers. It is basically a bunch of Transformer encoders stacked together (not the whole Transformer architecture but just the encoder). The concept of bidirectionality is the key differentiator between BERT and its predecessor, OpenAI GPT. BERT is bidirectional because its self-attention layer performs self-attention on both directions. \n",
    "\n",
    "* base: 12, large 18 \n",
    "* pre-trained model for language modeling and masking"
   ]
  },
  {
   "cell_type": "markdown",
   "metadata": {},
   "source": [
    "* [CLS]를 넣어 classification\n",
    "* [SEP]을 넣어 language model\n",
    "* fine-tuning을 통해 원하는 작업에 사용할 수 있다.\n",
    "    * feature extraction: 문맥을 반영한 word-embedding이 가능(중의어). BERT에서 인코딩된 단어를 꺼내면 된다. \n",
    "    * Classfication 등"
   ]
  },
  {
   "cell_type": "markdown",
   "metadata": {},
   "source": [
    "## ELMo\n",
    "\n",
    "BERT보다 먼저 나왔지만 완전히 양방향은 아님"
   ]
  },
  {
   "cell_type": "markdown",
   "metadata": {},
   "source": [
    "## References\n",
    "\n",
    "### Links\n",
    "\n",
    "* http://docs.likejazz.com/bert/\n",
    "* https://medium.com/dissecting-bert/dissecting-bert-part2-335ff2ed9c73\n",
    "* http://jalammar.github.io/illustrated-bert/\n",
    "\n",
    "### Data and Models\n",
    "\n",
    "* Hugging face?\n",
    "* 한국어 자료는 교수님께 말씀드려리면 주심"
   ]
  },
  {
   "cell_type": "code",
   "execution_count": null,
   "metadata": {},
   "outputs": [],
   "source": []
  }
 ],
 "metadata": {
  "kernelspec": {
   "display_name": "Python 3",
   "language": "python",
   "name": "python3"
  },
  "language_info": {
   "codemirror_mode": {
    "name": "ipython",
    "version": 3
   },
   "file_extension": ".py",
   "mimetype": "text/x-python",
   "name": "python",
   "nbconvert_exporter": "python",
   "pygments_lexer": "ipython3",
   "version": "3.7.4"
  }
 },
 "nbformat": 4,
 "nbformat_minor": 4
}
