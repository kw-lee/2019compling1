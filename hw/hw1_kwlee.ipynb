{
 "cells": [
  {
   "cell_type": "markdown",
   "metadata": {},
   "source": [
    "# HW1\n",
    "\n",
    "Department of Statistics, Kyeongwon Lee"
   ]
  },
  {
   "cell_type": "markdown",
   "metadata": {},
   "source": [
    "<!-- #### Transiting to Backpropagation\n",
    "- Let's go back to our simple FNN to put things in perspective\n",
    "    - Let us ignore non-linearities for now to keep it simpler, but it's just a tiny change subsequently\n",
    "    - Given a linear transformation on our input (for simplicity instead of an affine transformation that includes a bias): $\\hat y = \\theta x$\n",
    "        - $\\theta$ is our parameters\n",
    "        - $x$ is our input\n",
    "        - $\\hat y$ is our prediction\n",
    "    - Then we have our MSE loss function $L = \\frac{1}{2} (\\hat y - y)^2$\n",
    "- We need to calculate our partial derivatives of our loss w.r.t. our parameters to update our parameters: $\\nabla_{\\theta} = \\frac{\\delta L}{\\delta \\theta}$\n",
    "    - With chain rule we have $\\frac{\\delta L}{\\delta \\theta} = \\frac{\\delta L}{\\delta \\hat y} \\frac{\\delta \\hat y}{\\delta \\theta}$\n",
    "        - $\\frac{\\delta L}{\\delta \\hat y} = (\\hat y -  y)$\n",
    "        - $\\frac{\\delta \\hat y}{\\delta \\theta}$ is our partial derivatives of $y$ w.r.t. our parameters (our gradient) as we have covered previously\n",
    "        \n",
    " -->\n",
    "<!-- #### Forward Propagation, Backward Propagation and Gradient Descent -->\n",
    "## Model\n",
    "<!-- - All right, now let's put together what we have learnt on backpropagation and apply it on a simple feedforward neural network (FNN)\n",
    "- Let us assume the following simple FNN architecture and take note that we do not have bias here to keep things simple -->\n",
    "\n",
    "- FNN architecture\n",
    "    1. Linear function: hidden size = 32\n",
    "    2. Non-linear function: sigmoid\n",
    "    3. Linear function: output size = <font color=\"red\">16 </font>\n",
    "    4. Non-linear function: sigmoid\n",
    "    5. <font color=\"red\">Linear function: output size = 1 </font>\n",
    "    6. <font color=\"red\">Non-linear function: sigmoid </font>\n",
    "\n",
    "- We will be going through a binary classification problem classifying 2 types of flowers\n",
    "    - Output size: 1 (represented by 0 or 1 depending on the flower)\n",
    "    - Input size: 2 (features of the flower)\n",
    "\n",
    "![](https://www.deeplearningwizard.com/deep_learning/boosting_models_pytorch/images/manual_bp.png) "
   ]
  },
  {
   "cell_type": "markdown",
   "metadata": {},
   "source": [
    "I add one hidden layer to original FNN, i.e. \n",
    "$$\n",
    "X_1 \\xrightarrow{W_1*\\cdot} Y_1 \\xrightarrow{\\sigma(\\cdot)} Y_2 \\xrightarrow{W_2*\\cdot} Y_3 \\xrightarrow{\\sigma(\\cdot)} Y_4 \\xrightarrow{W_3*\\cdot} Y_5 \\xrightarrow{\\sigma(\\cdot)} Y_6,\n",
    "$$\n",
    "and correct the last derivate\n",
    "$$\n",
    "    \\frac{d C}{d Y_6} = -\\frac{L}{Y_6} + \\frac{1-L}{1-Y_6} = \\frac{Y_6 - L}{Y_6 (1-Y_6)} \\neq Y_6 - L = \\frac{d}{dY_6} \\left\\{ \\frac{1}{2}(Y_6 - L)^2 \\right\\}.\n",
    "$$\n",
    "\n",
    "Note partial derivatives of cost are\n",
    "\\begin{align*}\n",
    "    \\frac{dC}{dW_3} &= \\frac{dC}{dY_5}\\frac{dY_5}{dW_3} = \\frac{dC}{dY_6}\\frac{dY_6}{dY_5}\\frac{dY_5}{dW_3}, \\\\\n",
    "    \\frac{dC}{dW_2} &= \\frac{dC}{dY_3}\\frac{dY_3}{dW_2} = \\frac{dC}{dY_6}\\frac{dY_6}{dY_5}\\frac{dY_5}{dY_4}\\frac{dY_4}{dY_3}\\frac{dY_3}{dW_2}, \\\\\n",
    "    \\frac{dC}{dW_1} &= \\frac{dC}{dY_1}\\frac{dY_1}{dW_1} = \\frac{dC}{dY_6}\\frac{dY_6}{dY_5}\\frac{dY_5}{dY_4}\\frac{dY_4}{dY_3}\\frac{dY_3}{dY_2}\\frac{dY_2}{dY_1}\\frac{dY_1}{dW_1}.\n",
    "\\end{align*}"
   ]
  },
  {
   "cell_type": "markdown",
   "metadata": {},
   "source": [
    "## Code "
   ]
  },
  {
   "cell_type": "code",
   "execution_count": 1,
   "metadata": {},
   "outputs": [],
   "source": [
    "import torch\n",
    "import torch.nn as nn"
   ]
  },
  {
   "cell_type": "code",
   "execution_count": 2,
   "metadata": {},
   "outputs": [],
   "source": [
    "from sklearn import datasets\n",
    "from sklearn import preprocessing\n",
    "iris = datasets.load_iris()\n",
    "X = torch.tensor(preprocessing.normalize(iris.data[:, :2]), dtype=torch.float)\n",
    "y = torch.tensor(iris.target.reshape(-1, 1), dtype=torch.float)"
   ]
  },
  {
   "cell_type": "code",
   "execution_count": 3,
   "metadata": {},
   "outputs": [
    {
     "data": {
      "text/plain": [
       "<torch._C.Generator at 0x12273a650>"
      ]
     },
     "execution_count": 3,
     "metadata": {},
     "output_type": "execute_result"
    }
   ],
   "source": [
    "# Set manual seed\n",
    "torch.manual_seed(2)"
   ]
  },
  {
   "cell_type": "code",
   "execution_count": 4,
   "metadata": {},
   "outputs": [
    {
     "name": "stdout",
     "output_type": "stream",
     "text": [
      "torch.Size([150, 2])\n",
      "torch.Size([150, 1])\n"
     ]
    }
   ],
   "source": [
    "print(X.size())\n",
    "print(y.size())"
   ]
  },
  {
   "cell_type": "code",
   "execution_count": 5,
   "metadata": {},
   "outputs": [],
   "source": [
    "# We only take 2 classes to make a binary classification problem\n",
    "X = X[:y[y < 2].size()[0]]\n",
    "y = y[:y[y < 2].size()[0]]"
   ]
  },
  {
   "cell_type": "code",
   "execution_count": 6,
   "metadata": {},
   "outputs": [
    {
     "name": "stdout",
     "output_type": "stream",
     "text": [
      "torch.Size([100, 2])\n",
      "torch.Size([100, 1])\n"
     ]
    }
   ],
   "source": [
    "print(X.size())\n",
    "print(y.size())"
   ]
  },
  {
   "cell_type": "markdown",
   "metadata": {},
   "source": [
    "### Define the model"
   ]
  },
  {
   "cell_type": "code",
   "execution_count": 7,
   "metadata": {},
   "outputs": [],
   "source": [
    "# modified model\n",
    "class FNN(nn.Module):\n",
    "    def __init__(self, ):\n",
    "        super().__init__()\n",
    "        \n",
    "        # Dimensions for input, hidden and output\n",
    "        self.input_dim = 2\n",
    "        self.hidden_dim = 32\n",
    "        self.hidden2_dim = 16\n",
    "        self.output_dim = 1\n",
    "        \n",
    "        # Learning rate definition\n",
    "        self.learning_rate = 0.001\n",
    "        \n",
    "        # Our parameters (weights)\n",
    "        # w1: 2 x 32\n",
    "        self.w1 = torch.randn(self.input_dim, self.hidden_dim)\n",
    "        \n",
    "        # w2: 32 x 16\n",
    "        self.w2 = torch.randn(self.hidden_dim, self.hidden2_dim)\n",
    "        \n",
    "        # w3: 16 x 1\n",
    "        self.w3 = torch.randn(self.hidden2_dim, self.output_dim)\n",
    "    \n",
    "    \n",
    "    def sigmoid(self, s):\n",
    "        return 1 / (1 + torch.exp(-s))\n",
    "    \n",
    "    def sigmoid_first_order_derivative(self, s):\n",
    "        return s * (1 - s)\n",
    "    \n",
    "    # Forward propagation\n",
    "    def forward(self, X):\n",
    "        # First linear layer\n",
    "        self.y1 = torch.matmul(X, self.w1) # 3 X 3 \".dot\" does not broadcast in PyTorch\n",
    "        \n",
    "        # First non-linearity\n",
    "        self.y2 = self.sigmoid(self.y1)\n",
    "        \n",
    "        # Second linear layer\n",
    "        self.y3 = torch.matmul(self.y2, self.w2)\n",
    "        \n",
    "        # Second non-linearity\n",
    "        self.y4 = self.sigmoid(self.y3)\n",
    "        \n",
    "        #### Add the third hidden layer\n",
    "        \n",
    "        # Third linear layer\n",
    "        self.y5 = torch.matmul(self.y4, self.w3)\n",
    "        \n",
    "        # Second non-linearity\n",
    "        y6 = self.sigmoid(self.y5)\n",
    "        \n",
    "        return y6\n",
    "        \n",
    "    # Backward propagation\n",
    "    def backward(self, X, l, y6):\n",
    "        # Derivative of binary cross entropy cost w.r.t. final output y6\n",
    "        \n",
    "        self.dC_dy6 = (y6 - l)/(y6 * (1-y6)) # corrected loss\n",
    "\n",
    "        \n",
    "        '''\n",
    "        Gradients for w3: partial derivative of cost w.r.t. w3\n",
    "        dC/dw3\n",
    "        '''\n",
    "        self.dy6_dy5 = self.sigmoid_first_order_derivative(y6)\n",
    "        self.dy5_dw3 = self.y4\n",
    "        \n",
    "        # dC_dy5\n",
    "        self.y6_delta = self.dC_dy6 * self.dy6_dy5 \n",
    "        \n",
    "        # gradients for w3\n",
    "        self.dC_dw3 = torch.matmul(torch.t(self.dy5_dw3), self.y6_delta)\n",
    "        \n",
    "        '''\n",
    "        Gradients for w2: partial derivative of cost w.r.t. w2\n",
    "        dC/dw2\n",
    "        '''\n",
    "        self.dy5_dy4 = self.w3\n",
    "        self.dy4_dy3 = self.sigmoid_first_order_derivative(self.y4)\n",
    "        \n",
    "        # Y4 delta\n",
    "        # dC_dy3 = dC_dy5 * dy5_dy4 * dy4_dy3\n",
    "        self.y4_delta = torch.matmul(self.y6_delta, torch.t(self.dy5_dy4)) * self.dy4_dy3\n",
    "        self.dy3_dw2 = self.y2\n",
    "        # gradients for w2\n",
    "        self.dC_dw2 = torch.matmul(torch.t(self.dy3_dw2), self.y4_delta)\n",
    "        \n",
    "        \n",
    "        '''\n",
    "        Gradients for w1: partial derivative of cost w.r.t w1\n",
    "        dC/dw1\n",
    "        '''\n",
    "        self.dy3_dy2 = self.w2\n",
    "        self.dy2_dy1 = self.sigmoid_first_order_derivative(self.y2)\n",
    "        \n",
    "        # Y2 delta: (dC_dy4 dy4_dy3) dy3_dy2 dy2_dy1\n",
    "        self.y2_delta = torch.matmul(self.y4_delta, torch.t(self.dy3_dy2)) * self.dy2_dy1\n",
    "        \n",
    "        # Gradients for w1: (dC_dy4 dy4_dy3) dy3_dy2 dy2_dy1 dy1_dw1\n",
    "        self.dC_dw1 = torch.matmul(torch.t(X), self.y2_delta)\n",
    "\n",
    "        \n",
    "        # Gradient descent on the weights from our 2 linear layers\n",
    "        self.w1 -= self.learning_rate * self.dC_dw1\n",
    "        self.w2 -= self.learning_rate * self.dC_dw2\n",
    "        self.w3 -= self.learning_rate * self.dC_dw3\n",
    "\n",
    "    def train(self, X, l):\n",
    "        # Forward propagation\n",
    "        y6 = self.forward(X)\n",
    "        \n",
    "        # Backward propagation and gradient descent\n",
    "        self.backward(X, l, y6)"
   ]
  },
  {
   "cell_type": "markdown",
   "metadata": {},
   "source": [
    "### Train the model"
   ]
  },
  {
   "cell_type": "code",
   "execution_count": 8,
   "metadata": {
    "scrolled": true
   },
   "outputs": [
    {
     "name": "stdout",
     "output_type": "stream",
     "text": [
      "Epoch 0 | Loss: 1.1172503232955933\n",
      "Epoch 20 | Loss: 0.6934790015220642\n",
      "Epoch 40 | Loss: 0.6900936961174011\n",
      "Epoch 60 | Loss: 0.6867055296897888\n",
      "Epoch 80 | Loss: 0.6833014488220215\n",
      "Epoch 100 | Loss: 0.6798701286315918\n"
     ]
    }
   ],
   "source": [
    "# Instantiate our model class and assign it to our model object\n",
    "model = FNN()\n",
    "\n",
    "# Loss list for plotting of loss behaviour\n",
    "loss_lst = []\n",
    "\n",
    "# Number of times we want our FNN to look at all 100 samples we have, 100 implies looking through 100x\n",
    "num_epochs = 101\n",
    "\n",
    "# Let's train our model with 100 epochs\n",
    "for epoch in range(num_epochs):\n",
    "    # Get our predictions\n",
    "    y_hat = model(X)\n",
    "    \n",
    "    # Cross entropy loss, remember this can never be negative by nature of the equation\n",
    "    # But it does not mean the loss can't be negative for other loss functions\n",
    "    cross_entropy_loss = -(y * torch.log(y_hat) + (1 - y) * torch.log(1 - y_hat))\n",
    "    \n",
    "    # We have to take cross entropy loss over all our samples, 100 in this 2-class iris dataset\n",
    "    mean_cross_entropy_loss = torch.mean(cross_entropy_loss).detach().item()\n",
    "    \n",
    "    # Print our mean cross entropy loss\n",
    "    if epoch % 20 == 0:\n",
    "        print('Epoch {} | Loss: {}'.format(epoch, mean_cross_entropy_loss))\n",
    "    loss_lst.append(mean_cross_entropy_loss)\n",
    "    \n",
    "    # (1) Forward propagation: to get our predictions to pass to our cross entropy loss function\n",
    "    # (2) Back propagation: get our partial derivatives w.r.t. parameters (gradients)\n",
    "    # (3) Gradient Descent: update our weights with our gradients\n",
    "    model.train(X, y)"
   ]
  },
  {
   "cell_type": "markdown",
   "metadata": {},
   "source": [
    "### Results"
   ]
  },
  {
   "cell_type": "code",
   "execution_count": 9,
   "metadata": {
    "scrolled": true
   },
   "outputs": [],
   "source": [
    "import matplotlib.pylab as plt\n",
    "%matplotlib inline"
   ]
  },
  {
   "cell_type": "code",
   "execution_count": 10,
   "metadata": {},
   "outputs": [
    {
     "data": {
      "image/png": "[encoded data removed]",
      "text/plain": [
       "<Figure size 432x288 with 1 Axes>"
      ]
     },
     "metadata": {
      "needs_background": "light"
     },
     "output_type": "display_data"
    }
   ],
   "source": [
    "plt.plot(loss_lst, label = \"loss\")\n",
    "plt.legend()\n",
    "plt.show()"
   ]
  }
 ],
 "metadata": {
  "kernelspec": {
   "display_name": "Python 3",
   "language": "python",
   "name": "python3"
  },
  "language_info": {
   "codemirror_mode": {
    "name": "ipython",
    "version": 3
   },
   "file_extension": ".py",
   "mimetype": "text/x-python",
   "name": "python",
   "nbconvert_exporter": "python",
   "pygments_lexer": "ipython3",
   "version": "3.7.3"
  }
 },
 "nbformat": 4,
 "nbformat_minor": 4
}